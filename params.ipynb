{
 "cells": [
  {
   "cell_type": "code",
   "execution_count": 3,
   "id": "initial_id",
   "metadata": {
    "collapsed": true,
    "ExecuteTime": {
     "end_time": "2024-05-12T04:56:03.744103500Z",
     "start_time": "2024-05-12T04:56:03.691683200Z"
    }
   },
   "outputs": [
    {
     "name": "stdout",
     "output_type": "stream",
     "text": [
      "----------------------------------------------------------------\n",
      "        Layer (type)               Output Shape         Param #\n",
      "================================================================\n",
      "            Linear-1               [-1, 34, 64]           4,160\n",
      "            Linear-2               [-1, 34, 64]           4,160\n",
      "            Linear-3                [-1, 8, 64]           4,160\n",
      "            Linear-4                [-1, 8, 64]           4,160\n",
      "================================================================\n",
      "Total params: 16,640\n",
      "Trainable params: 16,640\n",
      "Non-trainable params: 0\n",
      "----------------------------------------------------------------\n",
      "Input size (MB): 4.25\n",
      "Forward/backward pass size (MB): 0.04\n",
      "Params size (MB): 0.06\n",
      "Estimated Total Size (MB): 4.35\n",
      "----------------------------------------------------------------\n"
     ]
    },
    {
     "ename": "RuntimeError",
     "evalue": "Sizes of tensors must match except in dimension 1. Expected size 34 but got size 8 for tensor number 1 in the list.",
     "output_type": "error",
     "traceback": [
      "\u001B[0;31m---------------------------------------------------------------------------\u001B[0m",
      "\u001B[0;31mRuntimeError\u001B[0m                              Traceback (most recent call last)",
      "Cell \u001B[0;32mIn[3], line 21\u001B[0m\n\u001B[1;32m     17\u001B[0m block_b \u001B[38;5;241m=\u001B[39m ModalFusion(\u001B[38;5;241m42\u001B[39m)\n\u001B[1;32m     20\u001B[0m summary(block_a, [(\u001B[38;5;241m34\u001B[39m, \u001B[38;5;241m64\u001B[39m), (\u001B[38;5;241m8\u001B[39m, \u001B[38;5;241m64\u001B[39m)], device\u001B[38;5;241m=\u001B[39m\u001B[38;5;124m'\u001B[39m\u001B[38;5;124mcpu\u001B[39m\u001B[38;5;124m'\u001B[39m)\n\u001B[0;32m---> 21\u001B[0m \u001B[43msummary\u001B[49m\u001B[43m(\u001B[49m\u001B[43mblock_b\u001B[49m\u001B[43m,\u001B[49m\u001B[43m \u001B[49m\u001B[43m[\u001B[49m\u001B[43m(\u001B[49m\u001B[38;5;241;43m2\u001B[39;49m\u001B[43m,\u001B[49m\u001B[43m \u001B[49m\u001B[38;5;241;43m34\u001B[39;49m\u001B[43m,\u001B[49m\u001B[43m \u001B[49m\u001B[38;5;241;43m64\u001B[39;49m\u001B[43m)\u001B[49m\u001B[43m,\u001B[49m\u001B[43m \u001B[49m\u001B[43m(\u001B[49m\u001B[38;5;241;43m2\u001B[39;49m\u001B[43m,\u001B[49m\u001B[38;5;241;43m8\u001B[39;49m\u001B[43m,\u001B[49m\u001B[43m \u001B[49m\u001B[38;5;241;43m64\u001B[39;49m\u001B[43m)\u001B[49m\u001B[43m,\u001B[49m\u001B[43m \u001B[49m\u001B[43m(\u001B[49m\u001B[38;5;241;43m42\u001B[39;49m\u001B[43m,\u001B[49m\u001B[43m \u001B[49m\u001B[38;5;241;43m42\u001B[39;49m\u001B[43m)\u001B[49m\u001B[43m]\u001B[49m\u001B[43m,\u001B[49m\u001B[43m \u001B[49m\u001B[43mdevice\u001B[49m\u001B[38;5;241;43m=\u001B[39;49m\u001B[38;5;124;43m'\u001B[39;49m\u001B[38;5;124;43mcpu\u001B[39;49m\u001B[38;5;124;43m'\u001B[39;49m\u001B[43m)\u001B[49m\n",
      "File \u001B[0;32m~/.conda/envs/w-pytorch-3.8/lib/python3.8/site-packages/torchsummary/torchsummary.py:72\u001B[0m, in \u001B[0;36msummary\u001B[0;34m(model, input_size, batch_size, device)\u001B[0m\n\u001B[1;32m     68\u001B[0m model\u001B[38;5;241m.\u001B[39mapply(register_hook)\n\u001B[1;32m     70\u001B[0m \u001B[38;5;66;03m# make a forward pass\u001B[39;00m\n\u001B[1;32m     71\u001B[0m \u001B[38;5;66;03m# print(x.shape)\u001B[39;00m\n\u001B[0;32m---> 72\u001B[0m \u001B[43mmodel\u001B[49m\u001B[43m(\u001B[49m\u001B[38;5;241;43m*\u001B[39;49m\u001B[43mx\u001B[49m\u001B[43m)\u001B[49m\n\u001B[1;32m     74\u001B[0m \u001B[38;5;66;03m# remove these hooks\u001B[39;00m\n\u001B[1;32m     75\u001B[0m \u001B[38;5;28;01mfor\u001B[39;00m h \u001B[38;5;129;01min\u001B[39;00m hooks:\n",
      "File \u001B[0;32m~/.conda/envs/w-pytorch-3.8/lib/python3.8/site-packages/torch/nn/modules/module.py:1194\u001B[0m, in \u001B[0;36mModule._call_impl\u001B[0;34m(self, *input, **kwargs)\u001B[0m\n\u001B[1;32m   1190\u001B[0m \u001B[38;5;66;03m# If we don't have any hooks, we want to skip the rest of the logic in\u001B[39;00m\n\u001B[1;32m   1191\u001B[0m \u001B[38;5;66;03m# this function, and just call forward.\u001B[39;00m\n\u001B[1;32m   1192\u001B[0m \u001B[38;5;28;01mif\u001B[39;00m \u001B[38;5;129;01mnot\u001B[39;00m (\u001B[38;5;28mself\u001B[39m\u001B[38;5;241m.\u001B[39m_backward_hooks \u001B[38;5;129;01mor\u001B[39;00m \u001B[38;5;28mself\u001B[39m\u001B[38;5;241m.\u001B[39m_forward_hooks \u001B[38;5;129;01mor\u001B[39;00m \u001B[38;5;28mself\u001B[39m\u001B[38;5;241m.\u001B[39m_forward_pre_hooks \u001B[38;5;129;01mor\u001B[39;00m _global_backward_hooks\n\u001B[1;32m   1193\u001B[0m         \u001B[38;5;129;01mor\u001B[39;00m _global_forward_hooks \u001B[38;5;129;01mor\u001B[39;00m _global_forward_pre_hooks):\n\u001B[0;32m-> 1194\u001B[0m     \u001B[38;5;28;01mreturn\u001B[39;00m \u001B[43mforward_call\u001B[49m\u001B[43m(\u001B[49m\u001B[38;5;241;43m*\u001B[39;49m\u001B[38;5;28;43minput\u001B[39;49m\u001B[43m,\u001B[49m\u001B[43m \u001B[49m\u001B[38;5;241;43m*\u001B[39;49m\u001B[38;5;241;43m*\u001B[39;49m\u001B[43mkwargs\u001B[49m\u001B[43m)\u001B[49m\n\u001B[1;32m   1195\u001B[0m \u001B[38;5;66;03m# Do not call functions when jit is used\u001B[39;00m\n\u001B[1;32m   1196\u001B[0m full_backward_hooks, non_full_backward_hooks \u001B[38;5;241m=\u001B[39m [], []\n",
      "File \u001B[0;32m~/RS/layers/CrossModalFusion.py:112\u001B[0m, in \u001B[0;36mModalFusion.forward\u001B[0;34m(self, modalA, modalB, graph)\u001B[0m\n\u001B[1;32m    111\u001B[0m \u001B[38;5;28;01mdef\u001B[39;00m \u001B[38;5;21mforward\u001B[39m(\u001B[38;5;28mself\u001B[39m, modalA, modalB, graph):\n\u001B[0;32m--> 112\u001B[0m     cat \u001B[38;5;241m=\u001B[39m \u001B[43mtorch\u001B[49m\u001B[38;5;241;43m.\u001B[39;49m\u001B[43mcat\u001B[49m\u001B[43m(\u001B[49m\u001B[43m[\u001B[49m\u001B[43mmodalA\u001B[49m\u001B[43m,\u001B[49m\u001B[43m \u001B[49m\u001B[43mmodalB\u001B[49m\u001B[43m]\u001B[49m\u001B[43m,\u001B[49m\u001B[43m \u001B[49m\u001B[43mdim\u001B[49m\u001B[38;5;241;43m=\u001B[39;49m\u001B[38;5;241;43m1\u001B[39;49m\u001B[43m)\u001B[49m\n\u001B[1;32m    113\u001B[0m     out \u001B[38;5;241m=\u001B[39m \u001B[38;5;28mself\u001B[39m\u001B[38;5;241m.\u001B[39mgcn(cat, graph)\n\u001B[1;32m    114\u001B[0m     \u001B[38;5;28;01mreturn\u001B[39;00m out\n",
      "\u001B[0;31mRuntimeError\u001B[0m: Sizes of tensors must match except in dimension 1. Expected size 34 but got size 8 for tensor number 1 in the list."
     ]
    }
   ],
   "source": [
    "import torch\n",
    "from torchsummary import summary\n",
    "from layers.CrossModalFusion import MultiModalAttentionGraph, ModalFusion\n",
    "\n",
    "class Configs:\n",
    "    def __init__(self):\n",
    "        self.seq_len = 168\n",
    "        self.top_k = 5\n",
    "        self.num_nodes = 34\n",
    "        self.num_channels = 8\n",
    "        self.embed_dim = 256\n",
    "        self.pred_len = 48\n",
    "\n",
    "configs = Configs()\n",
    "\n",
    "block_a = MultiModalAttentionGraph(34, 8, 64)\n",
    "block_b = ModalFusion(42)\n",
    "\n",
    "\n",
    "summary(block_a, [(34, 64), (8, 64)], device='cpu')\n",
    "summary(block_b, [(2, 34, 64), (2,8, 64), (42, 42)], device='cpu')"
   ]
  },
  {
   "cell_type": "code",
   "execution_count": 5,
   "id": "877bee6477f5b7d9",
   "metadata": {
    "collapsed": false,
    "ExecuteTime": {
     "end_time": "2024-05-12T05:21:46.941889700Z",
     "start_time": "2024-05-12T05:21:46.863377300Z"
    }
   },
   "outputs": [
    {
     "name": "stdout",
     "output_type": "stream",
     "text": [
      "----------------------------------------------------------------\n",
      "        Layer (type)               Output Shape         Param #\n",
      "================================================================\n",
      "            Conv2d-1          [-1, 8, 112, 112]           3,136\n",
      "       BatchNorm2d-2          [-1, 8, 112, 112]              16\n",
      "            Conv2d-3          [-1, 8, 112, 112]             576\n",
      "       BatchNorm2d-4          [-1, 8, 112, 112]              16\n",
      "            Conv2d-5          [-1, 8, 112, 112]             576\n",
      "       BatchNorm2d-6          [-1, 8, 112, 112]              16\n",
      "        BasicBlock-7          [-1, 8, 112, 112]               0\n",
      "            Conv2d-8           [-1, 16, 56, 56]           1,152\n",
      "       BatchNorm2d-9           [-1, 16, 56, 56]              32\n",
      "           Conv2d-10           [-1, 16, 56, 56]           2,304\n",
      "      BatchNorm2d-11           [-1, 16, 56, 56]              32\n",
      "           Conv2d-12           [-1, 16, 56, 56]             128\n",
      "      BatchNorm2d-13           [-1, 16, 56, 56]              32\n",
      "       BasicBlock-14           [-1, 16, 56, 56]               0\n",
      "           Conv2d-15           [-1, 32, 28, 28]           4,608\n",
      "      BatchNorm2d-16           [-1, 32, 28, 28]              64\n",
      "           Conv2d-17           [-1, 32, 28, 28]           9,216\n",
      "      BatchNorm2d-18           [-1, 32, 28, 28]              64\n",
      "           Conv2d-19           [-1, 32, 28, 28]             512\n",
      "      BatchNorm2d-20           [-1, 32, 28, 28]              64\n",
      "       BasicBlock-21           [-1, 32, 28, 28]               0\n",
      "           Conv2d-22           [-1, 64, 14, 14]          18,432\n",
      "      BatchNorm2d-23           [-1, 64, 14, 14]             128\n",
      "           Conv2d-24           [-1, 64, 14, 14]          36,864\n",
      "      BatchNorm2d-25           [-1, 64, 14, 14]             128\n",
      "           Conv2d-26           [-1, 64, 14, 14]           2,048\n",
      "      BatchNorm2d-27           [-1, 64, 14, 14]             128\n",
      "       BasicBlock-28           [-1, 64, 14, 14]               0\n",
      "           ResNet-29  [[-1, 8, 112, 112], [-1, 16, 56, 56], [-1, 32, 28, 28], [-1, 64, 14, 14]]               0\n",
      "           Conv2d-30            [-1, 8, 14, 14]             520\n",
      "         Upsample-31            [-1, 8, 28, 28]               0\n",
      "           Conv2d-32            [-1, 8, 28, 28]             264\n",
      "         Upsample-33            [-1, 8, 56, 56]               0\n",
      "           Conv2d-34            [-1, 8, 56, 56]             136\n",
      "         Upsample-35          [-1, 8, 112, 112]               0\n",
      "           Conv2d-36          [-1, 8, 112, 112]              72\n",
      "================================================================\n",
      "Total params: 81,264\n",
      "Trainable params: 81,264\n",
      "Non-trainable params: 0\n",
      "----------------------------------------------------------------\n",
      "Input size (MB): 0.98\n",
      "Forward/backward pass size (MB): 12089663946739.93\n",
      "Params size (MB): 0.31\n",
      "Estimated Total Size (MB): 12089663946741.22\n",
      "----------------------------------------------------------------\n"
     ]
    }
   ],
   "source": [
    "import torch\n",
    "from torchsummary import summary\n",
    "from layers.BiFPN import BiStreamFPN\n",
    "\n",
    "class Configs:\n",
    "    def __init__(self):\n",
    "        self.seq_len = 168\n",
    "        self.top_k = 5\n",
    "        self.num_nodes = 34\n",
    "        self.num_channels = 8\n",
    "        self.embed_dim = 256\n",
    "        self.pred_len = 48\n",
    "\n",
    "configs = Configs()\n",
    "\n",
    "block_a = BiStreamFPN(8)\n",
    "\n",
    "\n",
    "\n",
    "summary(block_a, (1, 8, 168, 192), device='cpu')\n"
   ]
  },
  {
   "cell_type": "code",
   "execution_count": 8,
   "outputs": [
    {
     "name": "stdout",
     "output_type": "stream",
     "text": [
      "----------------------------------------------------------------\n",
      "        Layer (type)               Output Shape         Param #\n",
      "================================================================\n",
      "             nconv-1            [-1, 34, 8, 12]               0\n",
      "             nconv-2            [-1, 34, 8, 12]               0\n",
      "            Conv2d-3            [-1, 34, 8, 12]           3,502\n",
      "            linear-4            [-1, 34, 8, 12]               0\n",
      "           mixprop-5            [-1, 34, 8, 12]               0\n",
      "              GELU-6            [-1, 34, 8, 12]               0\n",
      "         LayerNorm-7               [-1, 96, 34]              68\n",
      "================================================================\n",
      "Total params: 3,570\n",
      "Trainable params: 3,570\n",
      "Non-trainable params: 0\n",
      "----------------------------------------------------------------\n",
      "Input size (MB): 0.01\n",
      "Forward/backward pass size (MB): 0.17\n",
      "Params size (MB): 0.01\n",
      "Estimated Total Size (MB): 0.20\n",
      "----------------------------------------------------------------\n"
     ]
    }
   ],
   "source": [
    "import torch\n",
    "from torchsummary import summary\n",
    "from layers.Spatial_Block import GraphBlock\n",
    "\n",
    "class Configs:\n",
    "    def __init__(self):\n",
    "        self.seq_len = 168\n",
    "        self.top_k = 5\n",
    "        self.num_nodes = 34\n",
    "        self.num_channels = 8\n",
    "        self.embed_dim = 256\n",
    "        self.pred_len = 48\n",
    "\n",
    "configs = Configs()\n",
    "\n",
    "block_a = GraphBlock(34)\n",
    "\n",
    "summary(block_a, (34, 8, 12), device='cpu')\n"
   ],
   "metadata": {
    "collapsed": false,
    "ExecuteTime": {
     "end_time": "2024-05-12T05:25:53.525415700Z",
     "start_time": "2024-05-12T05:25:53.509018600Z"
    }
   },
   "id": "8d7990fbb3091b62"
  },
  {
   "cell_type": "code",
   "execution_count": 28,
   "outputs": [
    {
     "name": "stdout",
     "output_type": "stream",
     "text": [
      "torch.Size([32, 8, 112, 112])\n",
      "torch.Size([32, 16, 56, 56])\n",
      "torch.Size([32, 32, 28, 28])\n",
      "torch.Size([32, 64, 14, 14])\n"
     ]
    }
   ],
   "source": [
    "import torch\n",
    "import torch.nn as nn\n",
    "import torch.nn.functional as F\n",
    "\n",
    "class MultiScaleConc(nn.Module):\n",
    "\n",
    "    def __init__(self, in_channels=3):\n",
    "        super(MultiScaleConc, self).__init__()\n",
    "        channels = 8  # define channels before using it\n",
    "        self.start_conv = nn.Conv2d(in_channels, channels, kernel_size=7, stride=2, padding=3, bias=False)\n",
    "\n",
    "        self.conv = nn.Conv2d(in_channels, 1* in_channels, kernel_size=1)\n",
    "        self.bn = nn.BatchNorm2d(1* channels)\n",
    "        \n",
    "        self.scale_conv1 = nn.Conv2d(channels, 1* channels, kernel_size=1, stride=1)\n",
    "        self.scale_conv2 = nn.Conv2d(channels, 2* channels, kernel_size=2, stride=2)\n",
    "        self.scale_conv3 = nn.Conv2d(channels, 4* channels, kernel_size=4, stride=4)\n",
    "        self.scale_conv4 = nn.Conv2d(channels, 8* channels, kernel_size=8, stride=8)\n",
    "        \n",
    "\n",
    "    def padding(self, x):\n",
    "        # 计算需要填充的像素数\n",
    "        padding_height = 224 - x.size(3)\n",
    "        padding_width = 224 - x.size(4)\n",
    "        # 计算在每个方向上需要填充的像素数\n",
    "        padding_top = padding_height // 2\n",
    "        padding_bottom = padding_height - padding_top\n",
    "        padding_left = padding_width // 2\n",
    "        padding_right = padding_width - padding_left\n",
    "        # 使用pad函数填充图像\n",
    "        x = F.pad(x, (padding_left, padding_right, padding_top, padding_bottom), mode='constant', value=0)\n",
    "        return x\n",
    "\n",
    "    def forward(self, x):\n",
    "        x = torch.squeeze(self.padding(x))\n",
    "\n",
    "        x = self.bn(self.start_conv(x))\n",
    "        \n",
    "        c1 = self.scale_conv1(x)\n",
    "        c2 = self.scale_conv2(x)\n",
    "        c3 = self.scale_conv3(x)\n",
    "        c4 = self.scale_conv4(x)\n",
    "        \n",
    "        return [c1, c2, c3, c4]\n",
    "\n",
    "model = MultiScaleConc()\n",
    "\n",
    "input = torch.randn(32, 1, 3, 169, 192)\n",
    "\n",
    "output = model(input)\n",
    "\n",
    "print(output[0].shape)\n",
    "print(output[1].shape)\n",
    "print(output[2].shape)\n",
    "print(output[3].shape)\n"
   ],
   "metadata": {
    "collapsed": false,
    "ExecuteTime": {
     "end_time": "2024-05-12T07:41:36.220440100Z",
     "start_time": "2024-05-12T07:41:36.174879900Z"
    }
   },
   "id": "91df37783433c796"
  },
  {
   "cell_type": "code",
   "execution_count": 27,
   "outputs": [
    {
     "name": "stdout",
     "output_type": "stream",
     "text": [
      "torch.Size([32, 8, 112, 112])\n"
     ]
    }
   ],
   "source": [
    "import torch\n",
    "import torch.nn as nn\n",
    "import torch.nn.functional as F\n",
    "\n",
    "conv1 = nn.Conv2d(8, 8, kernel_size=8, stride=8)\n",
    "start_conv = nn.Conv2d(8, 8, kernel_size=7, stride=2, padding=3, bias=False)\n",
    "\n",
    "a = torch.randn(32, 8, 224, 224)\n",
    "\n",
    "b = start_conv(a)\n",
    "\n",
    "print(b.shape)"
   ],
   "metadata": {
    "collapsed": false,
    "ExecuteTime": {
     "end_time": "2024-05-12T07:41:05.838462Z",
     "start_time": "2024-05-12T07:41:05.771823300Z"
    }
   },
   "id": "32e47f152cfc1eea"
  },
  {
   "cell_type": "code",
   "execution_count": null,
   "outputs": [],
   "source": [],
   "metadata": {
    "collapsed": false
   },
   "id": "52b8200485892f1a"
  }
 ],
 "metadata": {
  "kernelspec": {
   "display_name": "Python 3",
   "language": "python",
   "name": "python3"
  },
  "language_info": {
   "codemirror_mode": {
    "name": "ipython",
    "version": 3
   },
   "file_extension": ".py",
   "mimetype": "text/x-python",
   "name": "python",
   "nbconvert_exporter": "python",
   "pygments_lexer": "ipython3",
   "version": "3.10.5"
  }
 },
 "nbformat": 4,
 "nbformat_minor": 5
}
